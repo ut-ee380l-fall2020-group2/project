{
  "nbformat": 4,
  "nbformat_minor": 0,
  "metadata": {
    "colab": {
      "name": "Trials_Suraj.ipynb",
      "provenance": [],
      "collapsed_sections": [],
      "toc_visible": true
    },
    "kernelspec": {
      "name": "python3",
      "display_name": "Python 3"
    },
    "widgets": {
      "application/vnd.jupyter.widget-state+json": {
        "1434d060e15d43879eef6ce5cfcddec8": {
          "model_module": "@jupyter-widgets/controls",
          "model_name": "HBoxModel",
          "state": {
            "_view_name": "HBoxView",
            "_dom_classes": [],
            "_model_name": "HBoxModel",
            "_view_module": "@jupyter-widgets/controls",
            "_model_module_version": "1.5.0",
            "_view_count": null,
            "_view_module_version": "1.5.0",
            "box_style": "",
            "layout": "IPY_MODEL_3ed3b57505ae4bcf84bc57955e65db8f",
            "_model_module": "@jupyter-widgets/controls",
            "children": [
              "IPY_MODEL_c1805bb29f09428a8712d1f121d3965b",
              "IPY_MODEL_6774396ab68b4a6c9bcf1bf767f506b3"
            ]
          }
        },
        "3ed3b57505ae4bcf84bc57955e65db8f": {
          "model_module": "@jupyter-widgets/base",
          "model_name": "LayoutModel",
          "state": {
            "_view_name": "LayoutView",
            "grid_template_rows": null,
            "right": null,
            "justify_content": null,
            "_view_module": "@jupyter-widgets/base",
            "overflow": null,
            "_model_module_version": "1.2.0",
            "_view_count": null,
            "flex_flow": null,
            "width": null,
            "min_width": null,
            "border": null,
            "align_items": null,
            "bottom": null,
            "_model_module": "@jupyter-widgets/base",
            "top": null,
            "grid_column": null,
            "overflow_y": null,
            "overflow_x": null,
            "grid_auto_flow": null,
            "grid_area": null,
            "grid_template_columns": null,
            "flex": null,
            "_model_name": "LayoutModel",
            "justify_items": null,
            "grid_row": null,
            "max_height": null,
            "align_content": null,
            "visibility": null,
            "align_self": null,
            "height": null,
            "min_height": null,
            "padding": null,
            "grid_auto_rows": null,
            "grid_gap": null,
            "max_width": null,
            "order": null,
            "_view_module_version": "1.2.0",
            "grid_template_areas": null,
            "object_position": null,
            "object_fit": null,
            "grid_auto_columns": null,
            "margin": null,
            "display": null,
            "left": null
          }
        },
        "c1805bb29f09428a8712d1f121d3965b": {
          "model_module": "@jupyter-widgets/controls",
          "model_name": "FloatProgressModel",
          "state": {
            "_view_name": "ProgressView",
            "style": "IPY_MODEL_d2ba6ed6b5c449c7b6d14903d1169fe8",
            "_dom_classes": [],
            "description": "features: 100%",
            "_model_name": "FloatProgressModel",
            "bar_style": "success",
            "max": 1,
            "_view_module": "@jupyter-widgets/controls",
            "_model_module_version": "1.5.0",
            "value": 1,
            "_view_count": null,
            "_view_module_version": "1.5.0",
            "orientation": "horizontal",
            "min": 0,
            "description_tooltip": null,
            "_model_module": "@jupyter-widgets/controls",
            "layout": "IPY_MODEL_99dd5e31f4c54ab381d4e56fd76d39a9"
          }
        },
        "6774396ab68b4a6c9bcf1bf767f506b3": {
          "model_module": "@jupyter-widgets/controls",
          "model_name": "HTMLModel",
          "state": {
            "_view_name": "HTMLView",
            "style": "IPY_MODEL_d61286ad45b947688fae0ef457e3fa95",
            "_dom_classes": [],
            "description": "",
            "_model_name": "HTMLModel",
            "placeholder": "​",
            "_view_module": "@jupyter-widgets/controls",
            "_model_module_version": "1.5.0",
            "value": " 1/1 [2:21:30&lt;00:00, 8490.36s/it]",
            "_view_count": null,
            "_view_module_version": "1.5.0",
            "description_tooltip": null,
            "_model_module": "@jupyter-widgets/controls",
            "layout": "IPY_MODEL_7513b21c96fb48c7b4a89232e2857b02"
          }
        },
        "d2ba6ed6b5c449c7b6d14903d1169fe8": {
          "model_module": "@jupyter-widgets/controls",
          "model_name": "ProgressStyleModel",
          "state": {
            "_view_name": "StyleView",
            "_model_name": "ProgressStyleModel",
            "description_width": "initial",
            "_view_module": "@jupyter-widgets/base",
            "_model_module_version": "1.5.0",
            "_view_count": null,
            "_view_module_version": "1.2.0",
            "bar_color": null,
            "_model_module": "@jupyter-widgets/controls"
          }
        },
        "99dd5e31f4c54ab381d4e56fd76d39a9": {
          "model_module": "@jupyter-widgets/base",
          "model_name": "LayoutModel",
          "state": {
            "_view_name": "LayoutView",
            "grid_template_rows": null,
            "right": null,
            "justify_content": null,
            "_view_module": "@jupyter-widgets/base",
            "overflow": null,
            "_model_module_version": "1.2.0",
            "_view_count": null,
            "flex_flow": null,
            "width": null,
            "min_width": null,
            "border": null,
            "align_items": null,
            "bottom": null,
            "_model_module": "@jupyter-widgets/base",
            "top": null,
            "grid_column": null,
            "overflow_y": null,
            "overflow_x": null,
            "grid_auto_flow": null,
            "grid_area": null,
            "grid_template_columns": null,
            "flex": null,
            "_model_name": "LayoutModel",
            "justify_items": null,
            "grid_row": null,
            "max_height": null,
            "align_content": null,
            "visibility": null,
            "align_self": null,
            "height": null,
            "min_height": null,
            "padding": null,
            "grid_auto_rows": null,
            "grid_gap": null,
            "max_width": null,
            "order": null,
            "_view_module_version": "1.2.0",
            "grid_template_areas": null,
            "object_position": null,
            "object_fit": null,
            "grid_auto_columns": null,
            "margin": null,
            "display": null,
            "left": null
          }
        },
        "d61286ad45b947688fae0ef457e3fa95": {
          "model_module": "@jupyter-widgets/controls",
          "model_name": "DescriptionStyleModel",
          "state": {
            "_view_name": "StyleView",
            "_model_name": "DescriptionStyleModel",
            "description_width": "",
            "_view_module": "@jupyter-widgets/base",
            "_model_module_version": "1.5.0",
            "_view_count": null,
            "_view_module_version": "1.2.0",
            "_model_module": "@jupyter-widgets/controls"
          }
        },
        "7513b21c96fb48c7b4a89232e2857b02": {
          "model_module": "@jupyter-widgets/base",
          "model_name": "LayoutModel",
          "state": {
            "_view_name": "LayoutView",
            "grid_template_rows": null,
            "right": null,
            "justify_content": null,
            "_view_module": "@jupyter-widgets/base",
            "overflow": null,
            "_model_module_version": "1.2.0",
            "_view_count": null,
            "flex_flow": null,
            "width": null,
            "min_width": null,
            "border": null,
            "align_items": null,
            "bottom": null,
            "_model_module": "@jupyter-widgets/base",
            "top": null,
            "grid_column": null,
            "overflow_y": null,
            "overflow_x": null,
            "grid_auto_flow": null,
            "grid_area": null,
            "grid_template_columns": null,
            "flex": null,
            "_model_name": "LayoutModel",
            "justify_items": null,
            "grid_row": null,
            "max_height": null,
            "align_content": null,
            "visibility": null,
            "align_self": null,
            "height": null,
            "min_height": null,
            "padding": null,
            "grid_auto_rows": null,
            "grid_gap": null,
            "max_width": null,
            "order": null,
            "_view_module_version": "1.2.0",
            "grid_template_areas": null,
            "object_position": null,
            "object_fit": null,
            "grid_auto_columns": null,
            "margin": null,
            "display": null,
            "left": null
          }
        }
      }
    }
  },
  "cells": [
    {
      "cell_type": "code",
      "metadata": {
        "colab": {
          "base_uri": "https://localhost:8080/"
        },
        "id": "Bnge5RrpXy4w",
        "outputId": "e0f8bdcd-1ee9-4d44-81ff-9fb1f24a5121"
      },
      "source": [
        "from google.colab import drive\n",
        "drive.mount('/content/drive')"
      ],
      "execution_count": null,
      "outputs": [
        {
          "output_type": "stream",
          "text": [
            "Mounted at /content/drive\n"
          ],
          "name": "stdout"
        }
      ]
    },
    {
      "cell_type": "code",
      "metadata": {
        "id": "geT-k1bKomhZ"
      },
      "source": [
        "!cp \"/content/drive/Shared drives/Data Mining Group 2/Utils/jay_utils.py\" ./utils.py"
      ],
      "execution_count": null,
      "outputs": []
    },
    {
      "cell_type": "code",
      "metadata": {
        "id": "z1uyfcBbtZyC",
        "colab": {
          "base_uri": "https://localhost:8080/"
        },
        "outputId": "d3f805e8-4b43-4a92-df0d-7a53c4704ca2"
      },
      "source": [
        "!pip install python-dotenv\n",
        "!pip install catboost"
      ],
      "execution_count": null,
      "outputs": [
        {
          "output_type": "stream",
          "text": [
            "Collecting python-dotenv\n",
            "  Downloading https://files.pythonhosted.org/packages/32/2e/e4585559237787966aad0f8fd0fc31df1c4c9eb0e62de458c5b6cde954eb/python_dotenv-0.15.0-py2.py3-none-any.whl\n",
            "Installing collected packages: python-dotenv\n",
            "Successfully installed python-dotenv-0.15.0\n",
            "Collecting catboost\n",
            "\u001b[?25l  Downloading https://files.pythonhosted.org/packages/7e/c1/c1c4707013f9e2f8a96899dd3a87f66c9167d6d776a6dc8fe7ec8678d446/catboost-0.24.3-cp36-none-manylinux1_x86_64.whl (66.3MB)\n",
            "\u001b[K     |████████████████████████████████| 66.3MB 57kB/s \n",
            "\u001b[?25hRequirement already satisfied: numpy>=1.16.0 in /usr/local/lib/python3.6/dist-packages (from catboost) (1.18.5)\n",
            "Requirement already satisfied: pandas>=0.24.0 in /usr/local/lib/python3.6/dist-packages (from catboost) (1.1.4)\n",
            "Requirement already satisfied: plotly in /usr/local/lib/python3.6/dist-packages (from catboost) (4.4.1)\n",
            "Requirement already satisfied: graphviz in /usr/local/lib/python3.6/dist-packages (from catboost) (0.10.1)\n",
            "Requirement already satisfied: scipy in /usr/local/lib/python3.6/dist-packages (from catboost) (1.4.1)\n",
            "Requirement already satisfied: matplotlib in /usr/local/lib/python3.6/dist-packages (from catboost) (3.2.2)\n",
            "Requirement already satisfied: six in /usr/local/lib/python3.6/dist-packages (from catboost) (1.15.0)\n",
            "Requirement already satisfied: pytz>=2017.2 in /usr/local/lib/python3.6/dist-packages (from pandas>=0.24.0->catboost) (2018.9)\n",
            "Requirement already satisfied: python-dateutil>=2.7.3 in /usr/local/lib/python3.6/dist-packages (from pandas>=0.24.0->catboost) (2.8.1)\n",
            "Requirement already satisfied: retrying>=1.3.3 in /usr/local/lib/python3.6/dist-packages (from plotly->catboost) (1.3.3)\n",
            "Requirement already satisfied: cycler>=0.10 in /usr/local/lib/python3.6/dist-packages (from matplotlib->catboost) (0.10.0)\n",
            "Requirement already satisfied: kiwisolver>=1.0.1 in /usr/local/lib/python3.6/dist-packages (from matplotlib->catboost) (1.3.1)\n",
            "Requirement already satisfied: pyparsing!=2.0.4,!=2.1.2,!=2.1.6,>=2.0.1 in /usr/local/lib/python3.6/dist-packages (from matplotlib->catboost) (2.4.7)\n",
            "Installing collected packages: catboost\n",
            "Successfully installed catboost-0.24.3\n"
          ],
          "name": "stdout"
        }
      ]
    },
    {
      "cell_type": "code",
      "metadata": {
        "id": "LIoS7n60oGgk"
      },
      "source": [
        "%matplotlib inline\n",
        "\n",
        "import os\n",
        "import time\n",
        "\n",
        "import IPython.display as ipd\n",
        "import numpy as np\n",
        "import pandas as pd\n",
        "import matplotlib.pyplot as plt\n",
        "import seaborn as sns\n",
        "import sklearn as skl\n",
        "import sklearn.utils, sklearn.preprocessing, sklearn.decomposition, sklearn.svm\n",
        "import librosa\n",
        "import librosa.display\n",
        "\n",
        "import utils\n",
        "\n",
        "plt.rcParams['figure.figsize'] = (20, 20)\n",
        "\n",
        "\n",
        "from tqdm import tqdm_notebook\n",
        "from tqdm import notebook\n",
        "from tqdm.notebook import tqdm_notebook\n",
        "import keras\n",
        "from keras.layers import Activation, Dense, Conv1D, Conv2D, MaxPooling1D, Flatten, Reshape\n",
        "\n",
        "from sklearn.utils import shuffle\n",
        "from sklearn.preprocessing import MultiLabelBinarizer, LabelEncoder, LabelBinarizer, StandardScaler\n",
        "from sklearn.linear_model import LogisticRegression\n",
        "from sklearn.neighbors import KNeighborsClassifier\n",
        "from sklearn.svm import SVC, LinearSVC\n",
        "#from sklearn.gaussian_process import GaussianProcessClassifier\n",
        "#from sklearn.gaussian_process.kernels import RBF\n",
        "from sklearn.tree import DecisionTreeClassifier\n",
        "from sklearn.ensemble import RandomForestClassifier, AdaBoostClassifier\n",
        "from sklearn.neural_network import MLPClassifier\n",
        "from sklearn.naive_bayes import GaussianNB\n",
        "from sklearn.discriminant_analysis import QuadraticDiscriminantAnalysis\n",
        "from sklearn.multiclass import OneVsRestClassifier\n",
        "from catboost import CatBoostClassifier\n",
        "from sklearn.metrics import confusion_matrix, ConfusionMatrixDisplay, plot_confusion_matrix"
      ],
      "execution_count": null,
      "outputs": []
    },
    {
      "cell_type": "code",
      "metadata": {
        "id": "yZa8VOnCtkNJ",
        "colab": {
          "base_uri": "https://localhost:8080/"
        },
        "outputId": "f01d0fa8-8e9a-4bfc-c1a0-ba43ac3153f6"
      },
      "source": [
        "DRIVE_DIR = \"/content/drive/Shared drives/Data Mining Group 2/Dataset/unzipped_for_colab\"\n",
        "AUDIO_DIR = DRIVE_DIR + \"/fma_medium/\"\n",
        "\n",
        "tracks_ld = utils.load(DRIVE_DIR + '/fma_metadata/tracks.csv')\n",
        "features_ld = utils.load(DRIVE_DIR + '/fma_metadata/features.csv')\n",
        "# echonest_ld = utils.load(DRIVE_DIR + '/fma_metadata/echonest.csv')\n",
        "\n",
        "np.testing.assert_array_equal(features_ld.index, tracks_ld.index)\n",
        "# assert echonest_ld.index.isin(tracks_ld.index).all()\n",
        "\n",
        "# tracks_ld.shape, features_ld.shape, echonest_ld.shape\n",
        "tracks_ld.shape, features_ld.shape"
      ],
      "execution_count": null,
      "outputs": [
        {
          "output_type": "execute_result",
          "data": {
            "text/plain": [
              "((106574, 52), (106574, 518))"
            ]
          },
          "metadata": {
            "tags": []
          },
          "execution_count": 7
        }
      ]
    },
    {
      "cell_type": "markdown",
      "metadata": {
        "id": "pFUUMBFruqVv"
      },
      "source": [
        "SUBSET"
      ]
    },
    {
      "cell_type": "code",
      "metadata": {
        "id": "416_OL_CuuKd",
        "colab": {
          "base_uri": "https://localhost:8080/"
        },
        "outputId": "0efe4a7f-237b-485f-f714-530749e13d4e"
      },
      "source": [
        "subset = tracks_ld.index[tracks_ld['set', 'subset'].isin(['small', 'medium'])]\n",
        "\n",
        "assert subset.isin(tracks_ld.index).all()\n",
        "assert subset.isin(features_ld.index).all()\n",
        "\n",
        "\n",
        "# features_all = features.join(echonest, how='inner').sort_index(axis=1)\n",
        "# print('Not enough Echonest features: {}'.format(features_all.shape))\n",
        "\n",
        "tracks = tracks_ld.loc[subset]\n",
        "features_all = features_ld.loc[subset]\n",
        "\n",
        "tracks.shape, features_all.shape"
      ],
      "execution_count": null,
      "outputs": [
        {
          "output_type": "execute_result",
          "data": {
            "text/plain": [
              "((25000, 52), (25000, 518))"
            ]
          },
          "metadata": {
            "tags": []
          },
          "execution_count": 8
        }
      ]
    },
    {
      "cell_type": "code",
      "metadata": {
        "id": "4J4lFQv6uwwU",
        "colab": {
          "base_uri": "https://localhost:8080/"
        },
        "outputId": "8ccf3354-9efe-4d60-df58-c5e8be84a3ba"
      },
      "source": [
        "train = tracks.index[tracks['set', 'split'] == 'training']\n",
        "val = tracks.index[tracks['set', 'split'] == 'validation']\n",
        "test = tracks.index[tracks['set', 'split'] == 'test']\n",
        "# train_sm = tracks_sm.index[tracks_sm['set', 'split'] == 'training']\n",
        "# val_sm = tracks_sm.index[tracks_sm['set', 'split'] == 'validation']\n",
        "# test_sm = tracks_sm.index[tracks_sm['set', 'split'] == 'test']\n",
        "\n",
        "print('{} training examples, {} validation examples, {} testing examples'.format(*map(len, [train, val, test])))\n",
        "# print('Small + Medium: {} training examples, {} validation examples, {} testing examples'.format(*map(len, [train_sm, val_sm, test_sm])))\n",
        "\n",
        "genres = list(LabelEncoder().fit(tracks['track', 'genre_top']).classes_)\n",
        "# genres_sm = list(LabelEncoder().fit(tracks_sm['track', 'genre_top']).classes_)\n",
        "#genres = list(tracks['track', 'genre_top'].unique())\n",
        "print('Top genres ({}): {}'.format(len(genres), genres))\n",
        "# print('Small + Medium: Top genres ({}): {}'.format(len(genres_sm), genres_sm))\n",
        "genres = list(MultiLabelBinarizer().fit(tracks['track', 'genres_all']).classes_)\n",
        "# genres_sm = list(MultiLabelBinarizer().fit(tracks_sm['track', 'genres_all']).classes_)\n",
        "print('All genres ({}): {}'.format(len(genres), genres))\n",
        "# print('All genres ({}): {}'.format(len(genres_sm), genres_sm))"
      ],
      "execution_count": null,
      "outputs": [
        {
          "output_type": "stream",
          "text": [
            "19922 training examples, 2505 validation examples, 2573 testing examples\n",
            "Top genres (16): ['Blues', 'Classical', 'Country', 'Easy Listening', 'Electronic', 'Experimental', 'Folk', 'Hip-Hop', 'Instrumental', 'International', 'Jazz', 'Old-Time / Historic', 'Pop', 'Rock', 'Soul-RnB', 'Spoken']\n",
            "All genres (151): [1, 2, 3, 4, 5, 6, 7, 8, 9, 10, 11, 12, 13, 14, 15, 16, 17, 18, 19, 20, 21, 22, 25, 26, 27, 30, 31, 32, 33, 36, 37, 38, 41, 42, 43, 45, 46, 47, 49, 53, 58, 63, 64, 65, 66, 70, 71, 74, 76, 77, 79, 81, 83, 85, 86, 88, 89, 90, 92, 94, 97, 98, 100, 101, 102, 103, 107, 109, 111, 113, 117, 118, 125, 130, 137, 138, 166, 167, 169, 171, 172, 174, 177, 179, 180, 181, 182, 183, 184, 185, 186, 187, 188, 189, 214, 224, 232, 236, 240, 247, 250, 267, 286, 296, 297, 311, 314, 322, 337, 359, 360, 361, 362, 374, 378, 400, 401, 404, 428, 439, 440, 441, 442, 443, 456, 468, 491, 495, 502, 504, 514, 524, 538, 539, 542, 580, 602, 619, 651, 659, 695, 741, 763, 808, 810, 811, 906, 1032, 1060, 1193, 1235]\n"
          ],
          "name": "stdout"
        }
      ]
    },
    {
      "cell_type": "markdown",
      "metadata": {
        "id": "Md1hsNB6u4Nv"
      },
      "source": [
        "Pre-processing"
      ]
    },
    {
      "cell_type": "code",
      "metadata": {
        "id": "ozgAPC-Xu5xL"
      },
      "source": [
        "def pre_process(tracks, features, columns, multi_label=False, verbose=False):\n",
        "    if not multi_label:\n",
        "        # Assign an integer value to each genre.\n",
        "        enc = LabelEncoder()\n",
        "        labels = tracks['track', 'genre_top']\n",
        "        #y = enc.fit_transform(tracks['track', 'genre_top'])\n",
        "    else:\n",
        "        # Create an indicator matrix.\n",
        "        enc = MultiLabelBinarizer()\n",
        "        labels = tracks['track', 'genres_all']\n",
        "        #labels = tracks['track', 'genres']\n",
        "\n",
        "    # Split in training, validation and testing sets.\n",
        "    y_train = enc.fit_transform(labels[train])\n",
        "    y_val = enc.transform(labels[val])\n",
        "    y_test = enc.transform(labels[test])\n",
        "    X_train = features.loc[train, columns].to_numpy()\n",
        "    X_val = features.loc[val, columns].to_numpy()\n",
        "    X_test = features.loc[test, columns].to_numpy()\n",
        "    \n",
        "    X_train, y_train = shuffle(X_train, y_train, random_state=42)\n",
        "    \n",
        "    # Standardize features by removing the mean and scaling to unit variance.\n",
        "    scaler = StandardScaler(copy=False)\n",
        "    scaler.fit_transform(X_train)\n",
        "    scaler.transform(X_val)\n",
        "    scaler.transform(X_test)\n",
        "    \n",
        "    return y_train, y_val, y_test, X_train, X_val, X_test, enc"
      ],
      "execution_count": null,
      "outputs": []
    },
    {
      "cell_type": "markdown",
      "metadata": {
        "id": "SNdca6dKaJwM"
      },
      "source": [
        "Classification into multiple genres"
      ]
    },
    {
      "cell_type": "code",
      "metadata": {
        "id": "VsPT--0ju8Lp"
      },
      "source": [
        "def test_classifiers_features(classifiers, feature_sets, multi_label=False):\n",
        "    columns = list(classifiers.keys()).insert(0, 'dim')\n",
        "    scores_m = pd.DataFrame(columns=columns, index=feature_sets.keys())\n",
        "    # scores_sm = pd.DataFrame(columns=columns, index=feature_sets.keys())\n",
        "    times = pd.DataFrame(columns=classifiers.keys(), index=feature_sets.keys())\n",
        "    for fset_name, fset in tqdm_notebook(feature_sets.items(), desc='features'):\n",
        "        print(fset)\n",
        "        y_train_m, y_val_m, y_test_m, X_train_m, X_val_m, X_test_m, enc_m = pre_process(tracks, features_all, fset, multi_label)\n",
        "        # y_train_sm, y_val_sm, y_test_sm, X_train_sm, X_val_sm, X_test_sm, enc_sm = pre_process(tracks_sm, features_all_sm, fset, multi_label)\n",
        "        scores_m.loc[fset_name, 'dim'] = X_train_m.shape[1]\n",
        "        # scores_sm.loc[fset_name, 'dim'] = X_train_sm.shape[1]\n",
        "        for clf_name, clf in classifiers.items():  # tqdm_notebook(classifiers.items(), desc='classifiers', leave=False):\n",
        "            t = time.process_time()\n",
        "            clf.fit(X_train_m, y_train_m)\n",
        "            score_m = clf.score(X_test_m, y_test_m)\n",
        "            y_pred_m = clf.predict(X_test_m)\n",
        "            print(y_pred_m.shape, y_test_m.shape)\n",
        "            # cm_m = confusion_matrix(y_test_m, y_pred_m)\n",
        "            # cm_display_m = ConfusionMatrixDisplay(cm_m, display_labels=enc_m.classes_).plot()\n",
        "            # cm_display_m.ax_.set_title(f'Medium: {clf_name} ({fset_name})')\n",
        "            scores_m.loc[fset_name, clf_name] = score_m\n",
        "            # print('Medium')\n",
        "            # plot_confusion_matrix(clf, X_test_m, y_test_m)\n",
        "            # plt.show()\n",
        "\n",
        "            # clf.fit(X_train_sm, y_train_sm)\n",
        "            # score_sm = clf.score(X_test_sm, y_test_sm)\n",
        "            # y_pred_sm = clf.predict(X_test_sm)\n",
        "            # cm_sm = confusion_matrix(y_test_sm, y_pred_sm)\n",
        "            # cm_display_sm = ConfusionMatrixDisplay(cm_sm, display_labels=enc_sm.classes_).plot()\n",
        "            # cm_display_sm.ax_.set_title(f'Small + Medium: {clf_name} ({fset_name})')\n",
        "            # # print('Small + Medium')\n",
        "            # # plot_confusion_matrix(clf, X_test_sm, y_test_sm)\n",
        "            # plt.show()\n",
        "            # scores_sm.loc[fset_name, clf_name] = score_sm\n",
        "            times.loc[fset_name, clf_name] = time.process_time() - t\n",
        "    # return scores_m, scores_sm, times\n",
        "    return scores_m, times\n",
        "\n",
        "def format_scores(scores):\n",
        "    def highlight(s):\n",
        "        is_max = s == max(s[1:])\n",
        "        return ['background-color: yellow' if v else '' for v in is_max]\n",
        "    scores = scores.style.apply(highlight, axis=1)\n",
        "    return scores.format('{:.2%}', subset=pd.IndexSlice[:, scores.columns[1]:])"
      ],
      "execution_count": null,
      "outputs": []
    },
    {
      "cell_type": "code",
      "metadata": {
        "id": "LNyaVZe7u-Yg",
        "colab": {
          "base_uri": "https://localhost:8080/",
          "height": 256,
          "referenced_widgets": [
            "1434d060e15d43879eef6ce5cfcddec8",
            "3ed3b57505ae4bcf84bc57955e65db8f",
            "c1805bb29f09428a8712d1f121d3965b",
            "6774396ab68b4a6c9bcf1bf767f506b3",
            "d2ba6ed6b5c449c7b6d14903d1169fe8",
            "99dd5e31f4c54ab381d4e56fd76d39a9",
            "d61286ad45b947688fae0ef457e3fa95",
            "7513b21c96fb48c7b4a89232e2857b02"
          ]
        },
        "outputId": "c4fa33f9-ac41-463e-cca4-9510fba3c1da"
      },
      "source": [
        "classifiers = {\n",
        "    #LogisticRegression(),\n",
        "    # 'LR': OneVsRestClassifier(LogisticRegression()),\n",
        "    # 'SVC': OneVsRestClassifier(SVC()),\n",
        "    # 'MLP': MLPClassifier(max_iter=700),\n",
        "    'CatBoost_30' : CatBoostClassifier(n_estimators=30, logging_level='Silent'),\n",
        "    'CatBoost_100' : CatBoostClassifier(n_estimators=100, logging_level='Silent'),\n",
        "    'CatBoost_300' : CatBoostClassifier(n_estimators=300, logging_level='Silent'),\n",
        "    'CatBoost_1000' : CatBoostClassifier(n_estimators=1000, logging_level='Silent'),\n",
        "    'CatBoost_3000' : CatBoostClassifier(n_estimators=3000, logging_level='Silent')\n",
        "}\n",
        "\n",
        "feature_sets = {\n",
        "#    'echonest_audio': ('echonest', 'audio_features'),\n",
        "#    'echonest_temporal': ('echonest', 'temporal_features'),\n",
        "    # 'mfcc': 'mfcc',\n",
        "    'mfcc/contrast/chroma/centroid/tonnetz': ['mfcc', 'spectral_contrast', 'chroma_cens', 'spectral_centroid', 'tonnetz'],\n",
        "    # 'mfcc/contrast/chroma/centroid/zcr': ['mfcc', 'spectral_contrast', 'chroma_cens', 'spectral_centroid', 'zcr'],\n",
        "    # 'rolloff/rmse/zcr': ['spectral_rolloff', 'rmse', 'zcr']\n",
        "}\n",
        "\n",
        "scores_m, times = test_classifiers_features(classifiers, feature_sets)\n",
        "\n",
        "ipd.display(format_scores(scores_m))\n",
        "# ipd.display(format_scores(scores_sm))\n",
        "ipd.display(times.style.format('{:.4f}'))"
      ],
      "execution_count": null,
      "outputs": [
        {
          "output_type": "display_data",
          "data": {
            "application/vnd.jupyter.widget-view+json": {
              "model_id": "1434d060e15d43879eef6ce5cfcddec8",
              "version_minor": 0,
              "version_major": 2
            },
            "text/plain": [
              "HBox(children=(FloatProgress(value=0.0, description='features', max=1.0, style=ProgressStyle(description_width…"
            ]
          },
          "metadata": {
            "tags": []
          }
        },
        {
          "output_type": "stream",
          "text": [
            "['mfcc', 'spectral_contrast', 'chroma_cens', 'spectral_centroid', 'tonnetz']\n",
            "(2573, 1) (2573,)\n",
            "(2573, 1) (2573,)\n",
            "(2573, 1) (2573,)\n",
            "(2573, 1) (2573,)\n",
            "(2573, 1) (2573,)\n",
            "\n"
          ],
          "name": "stdout"
        },
        {
          "output_type": "display_data",
          "data": {
            "text/html": [
              "<style  type=\"text/css\" >\n",
              "#T_4af8944c_399c_11eb_a18e_0242ac1c0002row0_col5{\n",
              "            background-color:  yellow;\n",
              "        }</style><table id=\"T_4af8944c_399c_11eb_a18e_0242ac1c0002\" ><thead>    <tr>        <th class=\"blank level0\" ></th>        <th class=\"col_heading level0 col0\" >dim</th>        <th class=\"col_heading level0 col1\" >CatBoost_30</th>        <th class=\"col_heading level0 col2\" >CatBoost_100</th>        <th class=\"col_heading level0 col3\" >CatBoost_300</th>        <th class=\"col_heading level0 col4\" >CatBoost_1000</th>        <th class=\"col_heading level0 col5\" >CatBoost_3000</th>    </tr></thead><tbody>\n",
              "                <tr>\n",
              "                        <th id=\"T_4af8944c_399c_11eb_a18e_0242ac1c0002level0_row0\" class=\"row_heading level0 row0\" >mfcc/contrast/chroma/centroid/tonnetz</th>\n",
              "                        <td id=\"T_4af8944c_399c_11eb_a18e_0242ac1c0002row0_col0\" class=\"data row0 col0\" >322.000000</td>\n",
              "                        <td id=\"T_4af8944c_399c_11eb_a18e_0242ac1c0002row0_col1\" class=\"data row0 col1\" >56.82%</td>\n",
              "                        <td id=\"T_4af8944c_399c_11eb_a18e_0242ac1c0002row0_col2\" class=\"data row0 col2\" >59.81%</td>\n",
              "                        <td id=\"T_4af8944c_399c_11eb_a18e_0242ac1c0002row0_col3\" class=\"data row0 col3\" >62.30%</td>\n",
              "                        <td id=\"T_4af8944c_399c_11eb_a18e_0242ac1c0002row0_col4\" class=\"data row0 col4\" >62.92%</td>\n",
              "                        <td id=\"T_4af8944c_399c_11eb_a18e_0242ac1c0002row0_col5\" class=\"data row0 col5\" >63.27%</td>\n",
              "            </tr>\n",
              "    </tbody></table>"
            ],
            "text/plain": [
              "<pandas.io.formats.style.Styler at 0x7fce03903fd0>"
            ]
          },
          "metadata": {
            "tags": []
          }
        },
        {
          "output_type": "display_data",
          "data": {
            "text/html": [
              "<style  type=\"text/css\" >\n",
              "</style><table id=\"T_4af9927a_399c_11eb_a18e_0242ac1c0002\" ><thead>    <tr>        <th class=\"blank level0\" ></th>        <th class=\"col_heading level0 col0\" >CatBoost_30</th>        <th class=\"col_heading level0 col1\" >CatBoost_100</th>        <th class=\"col_heading level0 col2\" >CatBoost_300</th>        <th class=\"col_heading level0 col3\" >CatBoost_1000</th>        <th class=\"col_heading level0 col4\" >CatBoost_3000</th>    </tr></thead><tbody>\n",
              "                <tr>\n",
              "                        <th id=\"T_4af9927a_399c_11eb_a18e_0242ac1c0002level0_row0\" class=\"row_heading level0 row0\" >mfcc/contrast/chroma/centroid/tonnetz</th>\n",
              "                        <td id=\"T_4af9927a_399c_11eb_a18e_0242ac1c0002row0_col0\" class=\"data row0 col0\" >116.6383</td>\n",
              "                        <td id=\"T_4af9927a_399c_11eb_a18e_0242ac1c0002row0_col1\" class=\"data row0 col1\" >375.7163</td>\n",
              "                        <td id=\"T_4af9927a_399c_11eb_a18e_0242ac1c0002row0_col2\" class=\"data row0 col2\" >1127.4089</td>\n",
              "                        <td id=\"T_4af9927a_399c_11eb_a18e_0242ac1c0002row0_col3\" class=\"data row0 col3\" >3824.3009</td>\n",
              "                        <td id=\"T_4af9927a_399c_11eb_a18e_0242ac1c0002row0_col4\" class=\"data row0 col4\" >11203.1132</td>\n",
              "            </tr>\n",
              "    </tbody></table>"
            ],
            "text/plain": [
              "<pandas.io.formats.style.Styler at 0x7fce03903ef0>"
            ]
          },
          "metadata": {
            "tags": []
          }
        }
      ]
    },
    {
      "cell_type": "code",
      "metadata": {
        "colab": {
          "base_uri": "https://localhost:8080/",
          "height": 50
        },
        "id": "bhWr4w_QHuLq",
        "outputId": "8c565725-78e5-434b-f5b2-bcb5e6f740c6"
      },
      "source": [
        "from IPython.display import HTML\n",
        "display(HTML('''\n",
        "<style>\n",
        "  pre {\n",
        "      white-space: normal;\n",
        "  }\n",
        "</style>\n",
        "'''))\n",
        "print(\"x\\n\" * 200)"
      ],
      "execution_count": null,
      "outputs": [
        {
          "output_type": "display_data",
          "data": {
            "text/html": [
              "\n",
              "<style>\n",
              "  pre {\n",
              "      white-space: normal;\n",
              "  }\n",
              "</style>\n"
            ],
            "text/plain": [
              "<IPython.core.display.HTML object>"
            ]
          },
          "metadata": {
            "tags": []
          }
        },
        {
          "output_type": "stream",
          "text": [
            "x\n",
            "x\n",
            "x\n",
            "x\n",
            "x\n",
            "x\n",
            "x\n",
            "x\n",
            "x\n",
            "x\n",
            "x\n",
            "x\n",
            "x\n",
            "x\n",
            "x\n",
            "x\n",
            "x\n",
            "x\n",
            "x\n",
            "x\n",
            "x\n",
            "x\n",
            "x\n",
            "x\n",
            "x\n",
            "x\n",
            "x\n",
            "x\n",
            "x\n",
            "x\n",
            "x\n",
            "x\n",
            "x\n",
            "x\n",
            "x\n",
            "x\n",
            "x\n",
            "x\n",
            "x\n",
            "x\n",
            "x\n",
            "x\n",
            "x\n",
            "x\n",
            "x\n",
            "x\n",
            "x\n",
            "x\n",
            "x\n",
            "x\n",
            "x\n",
            "x\n",
            "x\n",
            "x\n",
            "x\n",
            "x\n",
            "x\n",
            "x\n",
            "x\n",
            "x\n",
            "x\n",
            "x\n",
            "x\n",
            "x\n",
            "x\n",
            "x\n",
            "x\n",
            "x\n",
            "x\n",
            "x\n",
            "x\n",
            "x\n",
            "x\n",
            "x\n",
            "x\n",
            "x\n",
            "x\n",
            "x\n",
            "x\n",
            "x\n",
            "x\n",
            "x\n",
            "x\n",
            "x\n",
            "x\n",
            "x\n",
            "x\n",
            "x\n",
            "x\n",
            "x\n",
            "x\n",
            "x\n",
            "x\n",
            "x\n",
            "x\n",
            "x\n",
            "x\n",
            "x\n",
            "x\n",
            "x\n",
            "x\n",
            "x\n",
            "x\n",
            "x\n",
            "x\n",
            "x\n",
            "x\n",
            "x\n",
            "x\n",
            "x\n",
            "x\n",
            "x\n",
            "x\n",
            "x\n",
            "x\n",
            "x\n",
            "x\n",
            "x\n",
            "x\n",
            "x\n",
            "x\n",
            "x\n",
            "x\n",
            "x\n",
            "x\n",
            "x\n",
            "x\n",
            "x\n",
            "x\n",
            "x\n",
            "x\n",
            "x\n",
            "x\n",
            "x\n",
            "x\n",
            "x\n",
            "x\n",
            "x\n",
            "x\n",
            "x\n",
            "x\n",
            "x\n",
            "x\n",
            "x\n",
            "x\n",
            "x\n",
            "x\n",
            "x\n",
            "x\n",
            "x\n",
            "x\n",
            "x\n",
            "x\n",
            "x\n",
            "x\n",
            "x\n",
            "x\n",
            "x\n",
            "x\n",
            "x\n",
            "x\n",
            "x\n",
            "x\n",
            "x\n",
            "x\n",
            "x\n",
            "x\n",
            "x\n",
            "x\n",
            "x\n",
            "x\n",
            "x\n",
            "x\n",
            "x\n",
            "x\n",
            "x\n",
            "x\n",
            "x\n",
            "x\n",
            "x\n",
            "x\n",
            "x\n",
            "x\n",
            "x\n",
            "x\n",
            "x\n",
            "x\n",
            "x\n",
            "x\n",
            "x\n",
            "x\n",
            "x\n",
            "x\n",
            "x\n",
            "x\n",
            "x\n",
            "x\n",
            "x\n",
            "x\n",
            "x\n",
            "\n"
          ],
          "name": "stdout"
        }
      ]
    },
    {
      "cell_type": "code",
      "metadata": {
        "id": "jRr6S3G8kF9M"
      },
      "source": [
        "### If using the GPU version\n",
        "\n",
        "%tensorflow_version 2.x\n",
        "import tensorflow as tf\n",
        "device_name = tf.test.gpu_device_name()\n",
        "if device_name != '/device:GPU:0':\n",
        "  raise SystemError('GPU device not found')\n",
        "print('Found GPU at: {}'.format(device_name))"
      ],
      "execution_count": null,
      "outputs": []
    },
    {
      "cell_type": "code",
      "metadata": {
        "id": "mhXppXeF_bW6"
      },
      "source": [
        "### If using the TPU version\n",
        "\n",
        "%tensorflow_version 2.x\n",
        "import tensorflow as tf\n",
        "print(\"Tensorflow version \" + tf.__version__)\n",
        "\n",
        "try:\n",
        "  tpu = tf.distribute.cluster_resolver.TPUClusterResolver()  # TPU detection\n",
        "  print('Running on TPU ', tpu.cluster_spec().as_dict()['worker'])\n",
        "except ValueError:\n",
        "  raise BaseException('ERROR: Not connected to a TPU runtime; please see the previous cell in this notebook for instructions!')\n",
        "\n",
        "tf.config.experimental_connect_to_cluster(tpu)\n",
        "tf.tpu.experimental.initialize_tpu_system(tpu)\n",
        "tpu_strategy = tf.distribute.experimental.TPUStrategy(tpu)"
      ],
      "execution_count": null,
      "outputs": []
    },
    {
      "cell_type": "code",
      "metadata": {
        "id": "sEpJiz5nvQoD",
        "cellView": "form"
      },
      "source": [
        "#@title Keras baseline model CNN\n",
        "import tensorflow as tf\n",
        "from keras import backend as K\n",
        "\n",
        "utils.quiet=True\n",
        "\n",
        "model = keras.models.Sequential()\n",
        "model.add(Reshape((*loader.shape, 1),  input_shape=loader.shape))\n",
        "print(model.output_shape)\n",
        "\n",
        "model.add(Conv2D(3, (13, 10), strides=(1, 4)))  # Subsample renamed to strides, rows/col => single kernel_size\n",
        "model.add(Activation(\"relu\"))\n",
        "print(model.output_shape)\n",
        "\n",
        "model.add(Conv2D(15, (1, 10), strides=(1, 4)))\n",
        "model.add(Activation(\"relu\"))\n",
        "print(model.output_shape)\n",
        "\n",
        "model.add(Conv2D(65, (1, 10), strides=(1, 4)))\n",
        "model.add(Activation(\"relu\"))\n",
        "print(model.output_shape)\n",
        "\n",
        "model.add(Flatten())\n",
        "print(model.output_shape)\n",
        "model.add(Dense(labels_onehot.shape[1]))\n",
        "model.add(Activation(\"softmax\"))\n",
        "print(model.output_shape)\n",
        "\n",
        "model.summary()\n",
        "\n",
        "optimizer = keras.optimizers.SGD(1e-3)#lr=0.01, momentum=0.9, nesterov=True)\n",
        "#optimizer = keras.optimizers.Adam()#lr=1e-5)#\n",
        "model.compile(optimizer, loss='categorical_crossentropy', metrics=['accuracy'])\n",
        "\n",
        "model.fit(SampleLoader(train, batch_size=16), steps_per_epoch=train.size, epochs=20, **params)\n",
        "loss = model.evaluate_generator(SampleLoader(val, batch_size=16), val.size, **params)\n",
        "loss = model.evaluate_generator(SampleLoader(test, batch_size=16), test.size, **params)\n",
        "#Y = model.predict_generator(loader, test.size, pickle_safe=True, nb_worker=NB_WORKER, max_q_size=5)\n",
        "\n",
        "loss"
      ],
      "execution_count": null,
      "outputs": []
    }
  ]
}